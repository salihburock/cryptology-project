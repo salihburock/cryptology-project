{
 "cells": [
  {
   "attachments": {},
   "cell_type": "markdown",
   "metadata": {},
   "source": [
    "\n",
    "def compbin(bin):\n",
    "    first = bin[0]\n",
    "    zeros = bin.split('1')\n",
    "    ones = bin.split('0')\n",
    "    zl = []\n",
    "    ol = []\n",
    "    for i in zeros:\n",
    "        if i != '':\n",
    "            zl.append(len(i))\n",
    "    for i in ones:\n",
    "        if i != '':\n",
    "            ol.append(len(i))\n",
    "    r = first, zl, ol\n",
    "    o = \"\"\n",
    "\n",
    "    if r[0]=='0':\n",
    "        for i in range(len(r[2])*2):\n",
    "            o += str(r[(i % 2)+1][i//2])\n",
    "    if r[0]=='1':\n",
    "        for i in range(len(r[2])*2):\n",
    "            try:\n",
    "                o += str(r[(i+1)%2+1][i//2])\n",
    "            except:\n",
    "                pass\n",
    "    o += r[0]\n",
    "    return o\n",
    "def decompbin(s):\n",
    "    first = bin[-1]\n",
    "    l = bin[:-1]\n",
    "    o=\"\"\n",
    "    for i in l:\n",
    "        if first == \"1\":\n",
    "            for i in range(len(l)):\n",
    "                currentbin = int(i % 2 == 0)\n",
    "                o+=str(currentbin)*int(l[i])\n",
    "        if first == \"0\":\n",
    "            for i in range(len(l)):\n",
    "                currentbin = int(i % 2 != 0)\n",
    "                o+=str(currentbin)*int(l[i])\n",
    "    return o\n",
    "\n",
    "compbin('1001111100111')\n",
    "decompbin('125231')\n"
   ]
  },
  {
   "cell_type": "code",
   "execution_count": 122,
   "metadata": {},
   "outputs": [
    {
     "name": "stdout",
     "output_type": "stream",
     "text": [
      "[2, 6]\n"
     ]
    },
    {
     "data": {
      "text/plain": [
       "'261'"
      ]
     },
     "execution_count": 122,
     "metadata": {},
     "output_type": "execute_result"
    }
   ],
   "source": [
    "def compbin(bin):\n",
    "    first = bin[0]\n",
    "    zeros = list(filter(None, bin.split('1')))\n",
    "    ones  = list(filter(None, bin.split('0')))\n",
    "    zl = []\n",
    "    ol = []\n",
    "    p=0\n",
    "    l=[]\n",
    "    o = \"\"\n",
    "    for key, group in groupby(bin):\n",
    "        l.append(len(''.join(group)))\n",
    "    \n",
    "    print(l)\n",
    "    for i in l:\n",
    "        if i >= 10:\n",
    "            if not i%9==0:\n",
    "                for _ in range(i//9):\n",
    "                    o+=\"90\"\n",
    "                o+=str(i%9)\n",
    "            else:\n",
    "                for _ in range(i//9-1):\n",
    "                    o+=\"90\"\n",
    "                o+=str(9)\n",
    "        else: \n",
    "            o+=str(i)\n",
    "\n",
    "    o+=first\n",
    "    return o\n",
    "\n",
    "\n",
    "\n",
    "def decompbin(s):\n",
    "    first = s[-1]\n",
    "    l = s[:-1]\n",
    "    o = \"\"\n",
    "    if first == \"1\":\n",
    "        for i in range(len(l)):\n",
    "            currentbin = int(i % 2 == 0)\n",
    "            o += str(currentbin)*int(l[i])\n",
    "            # print(o)\n",
    "    if first == \"0\":\n",
    "        for i in range(len(l)):\n",
    "            currentbin = int(i % 2 != 0)\n",
    "            o += str(currentbin)*int(l[i])\n",
    "    return o\n",
    "\n",
    "\n",
    "compbin('11000000')\n"
   ]
  },
  {
   "cell_type": "code",
   "execution_count": 131,
   "metadata": {},
   "outputs": [
    {
     "data": {
      "text/plain": [
       "False"
      ]
     },
     "execution_count": 131,
     "metadata": {},
     "output_type": "execute_result"
    }
   ],
   "source": []
  },
  {
   "cell_type": "code",
   "execution_count": 133,
   "metadata": {},
   "outputs": [
    {
     "name": "stdout",
     "output_type": "stream",
     "text": [
      "[1, 1, 1, 1, 2, 1, 2, 1, 1, 1, 1, 1]\n"
     ]
    },
    {
     "data": {
      "text/plain": [
       "'1111212111111'"
      ]
     },
     "execution_count": 133,
     "metadata": {},
     "output_type": "execute_result"
    }
   ],
   "source": [
    "compbin('10101101101010')\n",
    "                 "
   ]
  },
  {
   "cell_type": "code",
   "execution_count": 132,
   "metadata": {},
   "outputs": [
    {
     "data": {
      "text/plain": [
       "'10101101101010'"
      ]
     },
     "execution_count": 132,
     "metadata": {},
     "output_type": "execute_result"
    }
   ],
   "source": [
    "saveul('UpUzUNbİRşİfRe')"
   ]
  },
  {
   "cell_type": "code",
   "execution_count": 135,
   "metadata": {},
   "outputs": [
    {
     "data": {
      "text/plain": [
       "''"
      ]
     },
     "execution_count": 135,
     "metadata": {},
     "output_type": "execute_result"
    }
   ],
   "source": [
    "decompbin('0')\n"
   ]
  },
  {
   "cell_type": "code",
   "execution_count": null,
   "metadata": {},
   "outputs": [],
   "source": [
    "ord('')"
   ]
  },
  {
   "cell_type": "code",
   "execution_count": 137,
   "metadata": {},
   "outputs": [
    {
     "data": {
      "text/plain": [
       "['11112', '12111', '111']"
      ]
     },
     "execution_count": 137,
     "metadata": {},
     "output_type": "execute_result"
    }
   ],
   "source": [
    "def parseul(l):\n",
    "    l2 = list(l)\n",
    "    cl = []\n",
    "    s = 5\n",
    "    for i in range(0, len(l2), s):\n",
    "        cl.append(l2[i:i+s])\n",
    "    l3 = []\n",
    "    for i in cl:\n",
    "        l4 = ''\n",
    "        for j in i:\n",
    "            l4 += j\n",
    "        l3.append(l4)\n",
    "    return l3\n",
    "parseul('1111212111111')\n"
   ]
  },
  {
   "cell_type": "code",
   "execution_count": null,
   "metadata": {},
   "outputs": [],
   "source": [
    "def encryptul(l):\n",
    "    o = \"\"\n",
    "    for i in l:\n",
    "        o+=chr(int(i)+10000)\n",
    "    return o\n",
    "\n",
    "\n",
    "encryptul(parseul('829437592465'))\n",
    "\n"
   ]
  },
  {
   "cell_type": "code",
   "execution_count": null,
   "metadata": {},
   "outputs": [],
   "source": [
    "saveul('HROHOUYfTfdtFuFFDFDDDFFFFFFFFFFFFFFFFFFFF')\n",
    "compbin('11111110100010111111111111111111111111111')\n",
    "decompbin('7113119001')\n",
    "changeul(\"HROHOUYfTfdtFuFFDFDDDFFFFFFFFFFFFFFFFFFFF\",'11111110100010111111111111111111111111111')"
   ]
  },
  {
   "cell_type": "code",
   "execution_count": null,
   "metadata": {},
   "outputs": [],
   "source": [
    "ord('✸')\n"
   ]
  },
  {
   "cell_type": "code",
   "execution_count": 143,
   "metadata": {},
   "outputs": [
    {
     "data": {
      "text/plain": [
       "'o'"
      ]
     },
     "execution_count": 143,
     "metadata": {},
     "output_type": "execute_result"
    }
   ],
   "source": [
    "chr(111)"
   ]
  },
  {
   "cell_type": "code",
   "execution_count": null,
   "metadata": {},
   "outputs": [],
   "source": [
    "saveul('Yiğit')"
   ]
  },
  {
   "cell_type": "code",
   "execution_count": 120,
   "metadata": {},
   "outputs": [
    {
     "data": {
      "text/plain": [
       "'1140'"
      ]
     },
     "execution_count": 120,
     "metadata": {},
     "output_type": "execute_result"
    }
   ],
   "source": [
    "compbin('010000')"
   ]
  },
  {
   "cell_type": "code",
   "execution_count": null,
   "metadata": {},
   "outputs": [],
   "source": [
    "from cli import *"
   ]
  },
  {
   "cell_type": "code",
   "execution_count": null,
   "metadata": {},
   "outputs": [],
   "source": [
    "decompbin('9031')"
   ]
  },
  {
   "cell_type": "code",
   "execution_count": null,
   "metadata": {},
   "outputs": [],
   "source": []
  },
  {
   "cell_type": "code",
   "execution_count": null,
   "metadata": {},
   "outputs": [],
   "source": [
    "saveul('EEEEEEEEEEEE')\n",
    "compbin('111111111111')\n",
    "decompbin('9031')"
   ]
  },
  {
   "cell_type": "code",
   "execution_count": 113,
   "metadata": {},
   "outputs": [
    {
     "data": {
      "text/plain": [
       "1165"
      ]
     },
     "execution_count": 113,
     "metadata": {},
     "output_type": "execute_result"
    }
   ],
   "source": [
    "f = open('d.txt','w')\n",
    "o = \"\"\n",
    "d = {}\n",
    "rd = {}\n",
    "additions = ['ı','ğ','ü','ş','ö','ç','Ğ','Ü','Ş','Ö','Ç','İ']\n",
    "for i in range(33,127):\n",
    "    d[str(i-32)] = chr(i)\n",
    "    rd[chr(i)] = str(i-32)\n",
    "\n",
    "for i in range(len(additions)):\n",
    "    d[str(95+i)] = additions[i]\n",
    "    rd[additions[i]] = str(95+i)\n",
    "    \n",
    "f.write(str(rd))\n"
   ]
  },
  {
   "cell_type": "code",
   "execution_count": 115,
   "metadata": {},
   "outputs": [
    {
     "data": {
      "text/plain": [
       "1668303603082232771654646752409"
      ]
     },
     "execution_count": 115,
     "metadata": {},
     "output_type": "execute_result"
    }
   ],
   "source": [
    "def strint(s):\n",
    "    l = len(s)\n",
    "    o = 0\n",
    "    for i in range(l):\n",
    "        o+=int(rd[s[i]])*106**(i)\n",
    "    return o\n",
    "def intstr(s):\n",
    "    o = \"\"\n",
    "    for i in range(np.ceil(np.log(s,106))):\n",
    "        o += d[str(s//106**(i)%106)]\n",
    "    return o\n",
    "strint(\"ŞifreninŞifresi\")\n"
   ]
  },
  {
   "cell_type": "code",
   "execution_count": 118,
   "metadata": {},
   "outputs": [
    {
     "name": "stdout",
     "output_type": "stream",
     "text": [
      "1668303603082232771654646764681\n",
      "1668303603082232771654646760450\n",
      "1668303603082232771654646764644\n",
      "1668303603082232771654646773457\n",
      "1668303603082232771654646761092\n",
      "1668303603082232771654646764701\n",
      "1668303603082232771654646773456\n",
      "1668303603082232771654646761906\n",
      "1668303603082232771654646759494\n",
      "1668303603082232771654646761834\n",
      "1668303603082232771654646773500\n",
      "1668303603082232771654646760446\n",
      "1668303603082232771654646759992\n",
      "1668303603082232771654646773456\n",
      "1668303603082232771654646764697\n",
      "1668303603082232771654646764704\n",
      "1668303603082232771654646764646\n",
      "1668303603082232771654646760478\n",
      "1668303603082232771654646764664\n",
      "1668303603082232771654646773453\n",
      "1668303603082232771654646761028\n",
      "1668303603082232771654646764703\n",
      "1668303603082232771654646773507\n",
      "1668303603082232771654646761886\n",
      "1668303603082232771654646759479\n",
      "1668303603082232771654646761883\n",
      "1668303603082232771654646773507\n",
      "1668303603082232771654646760503\n",
      "1668303603082232771654646759952\n",
      "1668303603082232771654646773430\n",
      "1668303603082232771654646764664\n",
      "1668303603082232771654646764679\n",
      "1668303603082232771654646752437\n",
      "1668303603082232771654646752419\n",
      "1668303603082232771654646762459\n"
     ]
    }
   ],
   "source": [
    "def spkeyenc(vf, kf, passwd):\n",
    "    vf = open(vf,'ab')\n",
    "    kf = open(kf,'r+')\n",
    "    #toadd = \"\"\n",
    "    for i in kf.read():\n",
    "        #toadd+=u200d+str(ord(i)+strint(passwd))\n",
    "        print((ord(i)+strint(passwd)))\n",
    "    #vf.write(toadd.encode())\n",
    "    \n",
    "    \n",
    "spkeyenc('ftest.mp4','ftest','ŞifreninŞifresi')"
   ]
  },
  {
   "cell_type": "code",
   "execution_count": 119,
   "metadata": {},
   "outputs": [
    {
     "data": {
      "text/plain": [
       "'0x150e9465755b89e94e5ce81489'"
      ]
     },
     "execution_count": 119,
     "metadata": {},
     "output_type": "execute_result"
    }
   ],
   "source": [
    "hex(1668303603082232771654646764681)"
   ]
  },
  {
   "cell_type": "code",
   "execution_count": null,
   "metadata": {},
   "outputs": [],
   "source": []
  },
  {
   "cell_type": "code",
   "execution_count": null,
   "metadata": {},
   "outputs": [],
   "source": [
    "def spkeydec(vfn, kf, passwd):\n",
    "    vf = open(vfn,'rb')\n",
    "    enckey = vf.read().split(b'\\xe2\\x80\\x8d')[1:]\n",
    "    key = \"\"\n",
    "    for i in enckey:\n",
    "        key+=chr(int(i)-int(strint(passwd)))\n",
    "    open(kf,'w+').write(key)\n",
    "    cd(vfn,kf)\n",
    "\n",
    "\n",
    "print(spkeydec('ftest.mp4','ftest','a'))"
   ]
  },
  {
   "cell_type": "code",
   "execution_count": null,
   "metadata": {},
   "outputs": [],
   "source": [
    "f = open('ftest.mp4','rb')\n",
    "f.read().split(b'\\xe2\\x80\\x8d')"
   ]
  },
  {
   "cell_type": "code",
   "execution_count": null,
   "metadata": {},
   "outputs": [],
   "source": [
    "u200d.encode()"
   ]
  },
  {
   "cell_type": "code",
   "execution_count": null,
   "metadata": {},
   "outputs": [],
   "source": [
    "cd('ftest.mp4','ftest')"
   ]
  },
  {
   "cell_type": "code",
   "execution_count": null,
   "metadata": {},
   "outputs": [],
   "source": [
    "for i in morse_dict.values():\n",
    "    print(len(i))"
   ]
  },
  {
   "cell_type": "code",
   "execution_count": null,
   "metadata": {},
   "outputs": [],
   "source": [
    "for i in range(33,63):\n",
    "    print(format(i,'b').replace('0','.').replace('1','-'))"
   ]
  },
  {
   "cell_type": "code",
   "execution_count": null,
   "metadata": {},
   "outputs": [],
   "source": [
    "ar = (np.loadtxt('temp2.csv')/10**6)-1"
   ]
  },
  {
   "cell_type": "code",
   "execution_count": null,
   "metadata": {},
   "outputs": [],
   "source": [
    "import numpy as np\n",
    "import matplotlib.pyplot as plot\n",
    "time        = np.arange(0, 10, 0.1)\n",
    "amplitude   = (np.sin(time)+1)*10**6\n",
    "plot.plot(time, amplitude)\n",
    "plot.title('Sine wave')\n",
    "plot.xlabel('Değer')\n",
    "plot.ylabel('Genlik = sin(time)')\n",
    "plot.grid(True, which='both')\n",
    "plot.axhline(y=0, color='k')\n",
    "plot.scatter(4,(np.sin(4)+1)*10**6, color = 'r')\n",
    "plot.show()\n",
    "print((np.sin(4)+1)*10**6)"
   ]
  },
  {
   "cell_type": "code",
   "execution_count": null,
   "metadata": {},
   "outputs": [],
   "source": [
    "(243197 // 256**0)%256"
   ]
  },
  {
   "cell_type": "code",
   "execution_count": null,
   "metadata": {},
   "outputs": [],
   "source": [
    "s = 65\n",
    "print(hex(s), chr(s))"
   ]
  },
  {
   "cell_type": "code",
   "execution_count": null,
   "metadata": {},
   "outputs": [],
   "source": [
    "\n",
    "def createsound(c, n):\n",
    "    \"\"\"\n",
    "    200-500 -> \".\"\n",
    "    500-800 -> \"-\"\n",
    "    800-1000 -> \" \"\n",
    "    \"\"\"\n",
    "    k = 1\n",
    "    if c == \".\":\n",
    "         = int(np.random.uniform(200, 500, (1, 1)))\n",
    "        samplerate = 22050\n",
    "        k = int(np.random.uniform(4, 10, (1, 1)))\n",
    "    if c == \"-\":\n",
    "         = int(np.random.uniform(0.5, 0.9, (1, 1)))\n",
    "        samplerate = 44100\n",
    "        k = int(np.random.uniform(3, 4, (1, 1)))\n",
    "    if c == \" \":\n",
    "         = int(np.random.uniform(800, 1000, (1, 1)))\n",
    "        samplerate = 88200\n",
    "        k = 1\n",
    "    samplerate = 44100\n",
    "    t = np.linspace(0., 1., samplerate)\n",
    "    amplitude = np.iinfo(np.int16).max\n",
    "    data = amplitude * np.sin(2. * np.pi *  * t)\n",
    "    data = data[0:len(data)//k]\n",
    "    write(f\"./wavs/{n}.wav\",\n",
    "          samplerate, data.astype(np.int16))"
   ]
  },
  {
   "cell_type": "code",
   "execution_count": null,
   "metadata": {},
   "outputs": [],
   "source": [
    "clear_dirs()"
   ]
  }
 ],
 "metadata": {
  "kernelspec": {
   "display_name": "Python 3.10.8 64-bit",
   "language": "python",
   "name": "python3"
  },
  "language_info": {
   "codemirror_mode": {
    "name": "ipython",
    "version": 3
   },
   "file_extension": ".py",
   "mimetype": "text/x-python",
   "name": "python",
   "nbconvert_exporter": "python",
   "pygments_lexer": "ipython3",
   "version": "3.10.9 (main, Dec 19 2022, 17:35:49) [GCC 12.2.0]"
  },
  "orig_nbformat": 4,
  "vscode": {
   "interpreter": {
    "hash": "767d51c1340bd893661ea55ea3124f6de3c7a262a8b4abca0554b478b1e2ff90"
   }
  }
 },
 "nbformat": 4,
 "nbformat_minor": 2
}
